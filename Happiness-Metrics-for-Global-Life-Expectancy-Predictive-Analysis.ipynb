{
 "cells": [
  {
   "cell_type": "markdown",
   "id": "3574361a",
   "metadata": {},
   "source": [
    "## Happiness Metrics for Global Life Expectancy Predictive Analysis\n",
    "Nicole Chang, Sourish Guntipally, Aaron Park, Brandon To"
   ]
  },
  {
   "cell_type": "markdown",
   "id": "91be565f",
   "metadata": {},
   "source": [
    "Data used for this project is from Kaggle datasets of the [World Happiness Report](https://www.kaggle.com/unsdsn/world-happiness?select=2019.csv) and [Human Life Expectancy Around the World](https://www.kaggle.com/deepcontractor/human-life-expectancy-around-the-world).\n",
    "\n",
    "The years we are analyzing are from 2015 - 2019."
   ]
  },
  {
   "cell_type": "code",
   "execution_count": 44,
   "id": "75712870",
   "metadata": {},
   "outputs": [],
   "source": [
    "import scipy as sp, numpy as np, pandas as pd\n",
    "from sklearn.cross_decomposition import PLSRegression\n",
    "import matplotlib.pyplot as plt\n",
    "import warnings\n",
    "warnings.simplefilter('ignore')"
   ]
  },
  {
   "cell_type": "code",
   "execution_count": 55,
   "id": "8ee13aef",
   "metadata": {},
   "outputs": [],
   "source": [
    "#World Happiness Report (WHR)\n",
    "#Human Life Expectancy Around the World (HLE)\n",
    "#Use command below to show all elements in a dataframe\n",
    "#pd.set_option(\"display.max_rows\", None, \"display.max_columns\", None)\n",
    "\n",
    "#HLE\n",
    "dataHLE = pd.read_csv('Human_life_Expectancy.csv')\n",
    "\n",
    "#2015 data\n",
    "dataWHR2015 = pd.read_csv('2015.csv') #WHR\n",
    "\n",
    "#2016 data\n",
    "dataWHR2016 = pd.read_csv('2016.csv') #WHR\n",
    "\n",
    "#2017 data\n",
    "dataWHR2017 = pd.read_csv('2017.csv') #WHR\n",
    "\n",
    "#2018 data\n",
    "dataWHR2018 = pd.read_csv('2018.csv') #WHR\n",
    "\n",
    "#2019 data\n",
    "dataWHR2019 = pd.read_csv('2019.csv') #WHR"
   ]
  },
  {
   "cell_type": "code",
   "execution_count": 56,
   "id": "9ba4bb1c",
   "metadata": {},
   "outputs": [],
   "source": [
    "#Configuring HLE dataframe\n",
    "dataHLE = dataHLE.loc[dataHLE['Level'] == 'National']\n",
    "dfHLE = dataHLE.set_index('Country')"
   ]
  },
  {
   "cell_type": "code",
   "execution_count": 57,
   "id": "1fdeb786",
   "metadata": {
    "scrolled": true
   },
   "outputs": [],
   "source": [
    "#Configuring data into dataframes that are easier to use \n",
    "\n",
    "#Labels are the names of the measurements (countries) for all 5 years\n",
    "labels = [dataWHR2015['Country'].astype(str), dataWHR2016['Country'].astype(str), dataWHR2017['Country'].astype(str),dataWHR2018['Country'].astype(str), dataWHR2019['Country'].astype(str)] \n",
    "#dictionary to track countries participation in all 5 years\n",
    "recurringCountries = {}\n",
    "\n",
    "for i in range(len(dataWHR2015['Country'])):\n",
    "    recurringCountries[labels[0][i]] = 1\n",
    "\n",
    "for year in range(4):                                                      #Iterates for each year after 2015\n",
    "    for countryind in range(len(dataWHR2015['Country'])):                  #Iterates through country labels for 2015\n",
    "        for matchind in range(len(labels[year+1][:])):                     #Finds matches between 2015 label and other years\n",
    "            if labels[0][countryind] == labels[year+1][matchind]:\n",
    "                recurringCountries[labels[0][countryind]] += 1\n",
    "\n",
    "#delete all the countries that don't appear in every year out of the dictionary for year 2015\n",
    "for i in range(len(recurringCountries)):\n",
    "    if recurringCountries[labels[0][i]] < 5:\n",
    "        recurringCountries.pop(labels[0][i])\n"
   ]
  },
  {
   "cell_type": "code",
   "execution_count": 58,
   "id": "dc9ab920",
   "metadata": {},
   "outputs": [],
   "source": [
    "#creating lists of the countries to delete using the WHR dictionary \n",
    "del_countries2015 = []\n",
    "\n",
    "for i in range(len(dataWHR2015['Country'])):\n",
    "    if labels[0][i] not in recurringCountries:\n",
    "        del_countries2015.append(labels[0][i])\n",
    "\n",
    "del_countries2016 = []\n",
    "\n",
    "for i in range(len(dataWHR2016['Country'])):\n",
    "    if labels[1][i] not in recurringCountries:\n",
    "        del_countries2016.append(labels[1][i])\n",
    "\n",
    "del_countries2017 = []\n",
    "\n",
    "for i in range(len(dataWHR2017['Country'])):\n",
    "    if labels[2][i] not in recurringCountries:\n",
    "        del_countries2017.append(labels[2][i])\n",
    "        \n",
    "del_countries2018 = []\n",
    "\n",
    "for i in range(len(dataWHR2018['Country'])):\n",
    "    if labels[3][i] not in recurringCountries:\n",
    "        del_countries2018.append(labels[3][i])\n",
    "        \n",
    "del_countries2019 = []\n",
    "\n",
    "for i in range(len(dataWHR2019['Country'])):\n",
    "    if labels[4][i] not in recurringCountries:\n",
    "        del_countries2019.append(labels[4][i])\n",
    "\n",
    "del_countriesHLE = []\n",
    "\n",
    "for i in range(len(dfHLE.index)):\n",
    "    if dfHLE.index[i] not in recurringCountries:\n",
    "        del_countriesHLE.append(dfHLE.index[i])"
   ]
  },
  {
   "cell_type": "code",
   "execution_count": 59,
   "id": "05e9ef25",
   "metadata": {},
   "outputs": [],
   "source": [
    "#feel free to rename these dataframes\n",
    "#new dataframes with dropped countries\n",
    "#Syria does not appear in HLE which is why it is dropped in all other dataframes\n",
    "\n",
    "#NOTE: This cell sometimes results in an error saying ['Syria'] is not in axis-- run the previous 2 cells again\n",
    "dfWHR2015 = dataWHR2015.set_index('Country')\n",
    "dfWHR2015 = dfWHR2015.drop(del_countries2015)\n",
    "dfWHR2015 = dfWHR2015.drop('Syria')\n",
    "\n",
    "dfWHR2016 = dataWHR2016.set_index('Country')\n",
    "dfWHR2016 = dfWHR2016.drop(del_countries2016)\n",
    "dfWHR2016 = dfWHR2016.drop('Syria')\n",
    "\n",
    "dfWHR2017 = dataWHR2017.set_index('Country')\n",
    "dfWHR2017 = dfWHR2017.drop(del_countries2017)\n",
    "dfWHR2017 = dfWHR2017.drop('Syria')\n",
    "\n",
    "dfWHR2018 = dataWHR2018.set_index('Country')\n",
    "dfWHR2018 = dfWHR2018.drop(del_countries2018)\n",
    "dfWHR2018 = dfWHR2018.drop('Syria')\n",
    "\n",
    "dfWHR2019 = dataWHR2019.set_index('Country')\n",
    "dfWHR2019 = dfWHR2019.drop(del_countries2019)\n",
    "dfWHR2019 = dfWHR2019.drop('Syria')\n",
    "\n",
    "dfHLE = dfHLE.drop('Syria')\n",
    "dfHLE = dfHLE.drop(del_countriesHLE)\n",
    "dfHLE2015 = dfHLE['2015'] #data frame HLE 2015\n",
    "dfHLE2016 = dfHLE['2016'] #data frame HLE 2016\n",
    "dfHLE2017 = dfHLE['2017'] #data frame HLE 2017\n",
    "dfHLE2018 = dfHLE['2018'] #data frame HLE 2018\n",
    "dfHLE2019 = dfHLE['2019'] #data frame HLE 2019"
   ]
  },
  {
   "cell_type": "code",
   "execution_count": 60,
   "id": "74855907",
   "metadata": {},
   "outputs": [],
   "source": [
    "#Second round of finding recurring countries: this time checking WHR against HLE\n",
    "\n",
    "recurringCountries2 = {}\n",
    "\n",
    "for i in range(len(dfWHR2015.index)):\n",
    "    recurringCountries2[dfWHR2015.index[i]] = 1\n",
    "                                                                \n",
    "for countryindex in range(len(dfWHR2015.index)):  \n",
    "    for matchindex in range(len(dfHLE.index)):             #Iterates through country labels for 2015                                       \n",
    "        if dfWHR2015.index[countryindex] == dfHLE2015.index[matchindex]:\n",
    "            recurringCountries2[dfWHR2015.index[countryindex]] += 1\n",
    "\n",
    "#delete all the countries that don't appear in every year out of the dictionary for year 2015\n",
    "for i in range(len(recurringCountries2)):\n",
    "    if recurringCountries2[dfWHR2015.index[i]] < 2:\n",
    "        recurringCountries2.pop(dfWHR2015.index[i])"
   ]
  },
  {
   "cell_type": "code",
   "execution_count": 61,
   "id": "f243f39f",
   "metadata": {},
   "outputs": [],
   "source": [
    "#Second round of finding list of countries to delete\n",
    "del_countries_WHR = []\n",
    "\n",
    "for i in range(len(dfWHR2015.index)):\n",
    "    if dfWHR2015.index[i] not in recurringCountries2:\n",
    "        del_countries_WHR.append(dfWHR2015.index[i])"
   ]
  },
  {
   "cell_type": "code",
   "execution_count": 62,
   "id": "3329e7de",
   "metadata": {
    "scrolled": true
   },
   "outputs": [
    {
     "name": "stdout",
     "output_type": "stream",
     "text": [
      "133\n",
      "133\n"
     ]
    }
   ],
   "source": [
    "#Second round of deleting countries\n",
    "\n",
    "#NOTE: This cell sometimes results in an error saying ['Taiwan, Hong Kong, ...'] are not in axis-- \n",
    "#run the previous 2 cells again\n",
    "\n",
    "dfWHR2015 = dfWHR2015.drop(del_countries_WHR)\n",
    "\n",
    "dfWHR2016 = dfWHR2016.drop(del_countries_WHR)\n",
    "\n",
    "dfWHR2017 = dfWHR2017.drop(del_countries_WHR)\n",
    "\n",
    "dfWHR2018 = dfWHR2018.drop(del_countries_WHR)\n",
    "\n",
    "dfWHR2019 = dfWHR2019.drop(del_countries_WHR)\n",
    "\n",
    "#I Will delete the comments below later - Sourish\n",
    "#dfHLE = dfHLE.drop(del_countries_WHR)\n",
    "#dfHLE2015 = dfHLE2015.drop(del_countries_WHR) #data frame HLE 2015\n",
    "#dfHLE2016 = dfHLE2016.drop(del_countries_WHR) #data frame HLE 2016\n",
    "#dfHLE2017 = dfHLE2017.drop(del_countries_WHR) #data frame HLE 2017\n",
    "#dfHLE2018 = dfHLE2018.drop(del_countries_WHR) #data frame HLE 2018\n",
    "#dfHLE2019 = dfHLE2019.drop(del_countries_WHR) #data frame HLE 2019\n",
    "#print(len(dfHLE))\n",
    "#print(len(dfWHR2015))"
   ]
  },
  {
   "cell_type": "code",
   "execution_count": null,
   "id": "ca3cc086",
   "metadata": {},
   "outputs": [],
   "source": [
    "# if you want to drop columns, here's an example below\n",
    "#data_with_index1 = data_with_index1.drop(['Region', 'Standard Error'], axis=1)"
   ]
  },
  {
   "cell_type": "code",
   "execution_count": 13,
   "id": "c27c1505",
   "metadata": {},
   "outputs": [],
   "source": [
    "# To alphabetize, follow below example.\n",
    "# I left it like this so that we can call sort_values when needed. \n",
    "# Should just keep the main data frame sorted by overall rank by default\n",
    "#data_with_index1.sort_values('Country') #sorting A-Z\n",
    "#data_with_index1.sort_values('Country', ascending=False) #sorting Z-A"
   ]
  },
  {
   "cell_type": "code",
   "execution_count": null,
   "id": "08af3c0f",
   "metadata": {},
   "outputs": [],
   "source": []
  }
 ],
 "metadata": {
  "kernelspec": {
   "display_name": "Python 3 (ipykernel)",
   "language": "python",
   "name": "python3"
  },
  "language_info": {
   "codemirror_mode": {
    "name": "ipython",
    "version": 3
   },
   "file_extension": ".py",
   "mimetype": "text/x-python",
   "name": "python",
   "nbconvert_exporter": "python",
   "pygments_lexer": "ipython3",
   "version": "3.9.7"
  }
 },
 "nbformat": 4,
 "nbformat_minor": 5
}
