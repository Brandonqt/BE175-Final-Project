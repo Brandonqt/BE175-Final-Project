{
 "cells": [
  {
   "cell_type": "markdown",
   "id": "3574361a",
   "metadata": {},
   "source": [
    "## Happiness Metrics for Global Life Expectancy Predictive Analysis\n",
    "Nicole Chang, Sourish Guntipally, Aaron Park, Brandon To"
   ]
  },
  {
   "cell_type": "markdown",
   "id": "91be565f",
   "metadata": {},
   "source": [
    "Data used for this project is from Kaggle datasets of the [World Happiness Report](https://www.kaggle.com/unsdsn/world-happiness?select=2019.csv) and [Human Life Expectancy Around the World](https://www.kaggle.com/deepcontractor/human-life-expectancy-around-the-world).\n",
    "\n",
    "The years we are analyzing are from 2015 - 2019."
   ]
  },
  {
   "cell_type": "code",
   "execution_count": 3,
   "id": "75712870",
   "metadata": {},
   "outputs": [],
   "source": [
    "import scipy as sp, numpy as np, pandas as pd\n",
    "from sklearn.cross_decomposition import PLSRegression\n",
    "import matplotlib.pyplot as plt\n",
    "import warnings\n",
    "warnings.simplefilter('ignore')"
   ]
  },
  {
   "cell_type": "code",
   "execution_count": 61,
   "id": "8ee13aef",
   "metadata": {},
   "outputs": [],
   "source": [
    "#World Happiness Report (WHR)\n",
    "#Human Life Expectancy Around the World (HLE)\n",
    "\n",
    "#HLE\n",
    "dataHLE = pd.read_csv('Human_life_Expectancy.csv')\n",
    "\n",
    "#2015 data\n",
    "dataWHR2015 = pd.read_csv('2015.csv') #WHR\n",
    "dataHLE2015 = dataHLE['2015']   #HLE\n",
    "#figure out how to convert datatype to integers so we can actually work with the numbers\n",
    "\n",
    "#2016 data\n",
    "dataWHR2016 = pd.read_csv('2016.csv') #WHR\n",
    "\n",
    "#2017 data\n",
    "dataWHR2017 = pd.read_csv('2017.csv') #WHR\n",
    "\n",
    "#2018 data\n",
    "dataWHR2018 = pd.read_csv('2018.csv') #WHR\n",
    "\n",
    "#2019 data\n",
    "dataWHR2019 = pd.read_csv('2019.csv') #WHR"
   ]
  },
  {
   "cell_type": "code",
   "execution_count": 62,
   "id": "1fdeb786",
   "metadata": {
    "scrolled": true
   },
   "outputs": [],
   "source": [
    "#[Cell Description]\n",
    "\n",
    "#Labels are the names of the measurements (countries) for all 5 years\n",
    "labels = [dataWHR2015['Country'].astype(str), dataWHR2016['Country'].astype(str), dataWHR2017['Country'].astype(str),dataWHR2018['Country or region'].astype(str), dataWHR2019['Country or region'].astype(str)] \n",
    "count = np.zeros(len(dataWHR2015['Country']))     #Array to keep track of occurences of countries in 5 years\n",
    "\n",
    "for year in range(4):                                                      #Iterates for each year after 2015\n",
    "    for countryind in range(len(dataWHR2015['Country'])):                  #Iterates through country labels for 2015\n",
    "        for matchind in range(len(labels[year+1][:])):                     #Finds matches between 2015 label and other years\n",
    "            if labels[0][countryind] == labels[year+1][matchind]:\n",
    "                count[countryind] = count[countryind] + 1         "
   ]
  },
  {
   "cell_type": "code",
   "execution_count": 85,
   "id": "93933f02",
   "metadata": {},
   "outputs": [],
   "source": [
    "keep_countries_indices = list(np.where(count == 4))\n",
    "del_countries_indices = list(np.where(count != 4))\n",
    "labels2015 = []\n",
    "del_countries = []\n",
    "\n",
    "#for i in range(len(del_countries_indices)):\n",
    "#   int(del_countries_indices[0][i])\n",
    "for i in range(len(del_countries_indices[0])):\n",
    "    del_countries.append(labels[0][del_countries_indices[0][i]])\n"
   ]
  },
  {
   "cell_type": "code",
   "execution_count": 45,
   "id": "ca3cc086",
   "metadata": {},
   "outputs": [
    {
     "data": {
      "text/plain": [
       "[array([ 21,  37,  39,  40,  65,  71,  90,  92,  93,  96,  98, 100, 117,\n",
       "        125, 136, 139, 147], dtype=int32)]"
      ]
     },
     "execution_count": 45,
     "metadata": {},
     "output_type": "execute_result"
    }
   ],
   "source": [
    "labels[0][[1,2]]\n",
    "del_countries_indices"
   ]
  },
  {
   "cell_type": "code",
   "execution_count": null,
   "id": "9239defe",
   "metadata": {},
   "outputs": [],
   "source": [
    "# BEFORE WE CONTINUE WITH WORK, MUST FIND OVERLAPPING COUNTRIES FOR EVERY YEAR. WE CAN ONLY USE THOSE COUNTRIES\n",
    "# MUST REMOVE COUNTRIES THAT ARE NOT IN ALL 5 YEARS or at least make them null\n",
    "#ASK TA IF WE'RE ALLOWED TO ALTER THE DATA SET DIRECTLY\n",
    "\n",
    "print(\"Hello World\")"
   ]
  },
  {
   "cell_type": "code",
   "execution_count": null,
   "id": "16b5aa3d",
   "metadata": {},
   "outputs": [],
   "source": [
    "#hi"
   ]
  }
 ],
 "metadata": {
  "kernelspec": {
   "display_name": "Python 3 (ipykernel)",
   "language": "python",
   "name": "python3"
  },
  "language_info": {
   "codemirror_mode": {
    "name": "ipython",
    "version": 3
   },
   "file_extension": ".py",
   "mimetype": "text/x-python",
   "name": "python",
   "nbconvert_exporter": "python",
   "pygments_lexer": "ipython3",
   "version": "3.9.7"
  }
 },
 "nbformat": 4,
 "nbformat_minor": 5
}
