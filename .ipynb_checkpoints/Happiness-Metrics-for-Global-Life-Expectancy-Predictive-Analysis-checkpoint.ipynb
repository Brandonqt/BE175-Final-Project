{
 "cells": [
  {
   "cell_type": "markdown",
   "id": "3574361a",
   "metadata": {},
   "source": [
    "## Happiness Metrics for Global Life Expectancy Predictive Analysis\n",
    "Nicole Chang, Sourish Guntipally, Aaron Park, Brandon To"
   ]
  },
  {
   "cell_type": "markdown",
   "id": "91be565f",
   "metadata": {},
   "source": [
    "Data used for this project is from Kaggle datasets of the [World Happiness Report](https://www.kaggle.com/unsdsn/world-happiness?select=2019.csv) and [Human Life Expectancy Around the World](https://www.kaggle.com/deepcontractor/human-life-expectancy-around-the-world).\n",
    "\n",
    "The years we are analyzing are from 2015 - 2019."
   ]
  },
  {
   "cell_type": "code",
   "execution_count": 216,
   "id": "75712870",
   "metadata": {},
   "outputs": [],
   "source": [
    "import scipy as sp, numpy as np, pandas as pd\n",
    "from sklearn.cross_decomposition import PLSRegression\n",
    "import matplotlib.pyplot as plt\n",
    "import warnings\n",
    "warnings.simplefilter('ignore')"
   ]
  },
  {
   "cell_type": "code",
   "execution_count": 227,
   "id": "8ee13aef",
   "metadata": {},
   "outputs": [],
   "source": [
    "#World Happiness Report (WHR)\n",
    "#Human Life Expectancy Around the World (HLE)\n",
    "\n",
    "#HLE\n",
    "dataHLE = pd.read_csv('Human_life_Expectancy.csv')\n",
    "\n",
    "#2015 data\n",
    "dataWHR2015 = pd.read_csv('2015.csv') #WHR\n",
    "\n",
    "#2016 data\n",
    "dataWHR2016 = pd.read_csv('2016.csv') #WHR\n",
    "\n",
    "#2017 data\n",
    "dataWHR2017 = pd.read_csv('2017.csv') #WHR\n",
    "\n",
    "#2018 data\n",
    "dataWHR2018 = pd.read_csv('2018.csv') #WHR\n",
    "\n",
    "#2019 data\n",
    "dataWHR2019 = pd.read_csv('2019.csv') #WHR"
   ]
  },
  {
   "cell_type": "code",
   "execution_count": 228,
   "id": "1fdeb786",
   "metadata": {
    "scrolled": true
   },
   "outputs": [],
   "source": [
    "#Configuring data into dataframes that are easier to use \n",
    "\n",
    "#Labels are the names of the measurements (countries) for all 5 years\n",
    "labels = [dataWHR2015['Country'].astype(str), dataWHR2016['Country'].astype(str), dataWHR2017['Country'].astype(str),dataWHR2018['Country'].astype(str), dataWHR2019['Country'].astype(str)] \n",
    "count = np.zeros(len(dataWHR2015['Country'])) #Array to keep track of occurences of countries in 5 years\n",
    "\n",
    "recurringCountries = {}\n",
    "\n",
    "for i in range(len(dataWHR2015['Country'])):\n",
    "    recurringCountries[labels[0][i]] = 1\n",
    "\n",
    "\n",
    "for year in range(4):                                                      #Iterates for each year after 2015\n",
    "    for countryind in range(len(dataWHR2015['Country'])):                  #Iterates through country labels for 2015\n",
    "        for matchind in range(len(labels[year+1][:])):                     #Finds matches between 2015 label and other years\n",
    "            if labels[0][countryind] == labels[year+1][matchind]:\n",
    "                count[countryind] = count[countryind] + 1 \n",
    "                recurringCountries[labels[0][countryind]] += 1\n",
    "                \n",
    "#delete all the countries that don't appear in every year out of the dictionary\n",
    "for i in range(len(recurringCountries)):\n",
    "    if recurringCountries[labels[0][i]] < 5:\n",
    "        recurringCountries.pop(labels[0][i])\n"
   ]
  },
  {
   "cell_type": "code",
   "execution_count": 229,
   "id": "dc9ab920",
   "metadata": {},
   "outputs": [],
   "source": [
    "#deleting countries using the dictionary\n",
    "del_countries2015 = []\n",
    "\n",
    "for i in range(len(dataWHR2015['Country'])):\n",
    "    if labels[0][i] not in recurringCountries:\n",
    "        del_countries2015.append(labels[0][i])\n",
    "\n",
    "del_countries2016 = []\n",
    "\n",
    "for i in range(len(dataWHR2016['Country'])):\n",
    "    if labels[1][i] not in recurringCountries:\n",
    "        del_countries2016.append(labels[1][i])\n",
    "\n",
    "del_countries2017 = []\n",
    "\n",
    "for i in range(len(dataWHR2017['Country'])):\n",
    "    if labels[2][i] not in recurringCountries:\n",
    "        del_countries2017.append(labels[2][i])\n",
    "        \n",
    "del_countries2018 = []\n",
    "\n",
    "for i in range(len(dataWHR2018['Country'])):\n",
    "    if labels[3][i] not in recurringCountries:\n",
    "        del_countries2018.append(labels[3][i])\n",
    "        \n",
    "del_countries2019 = []\n",
    "\n",
    "for i in range(len(dataWHR2019['Country'])):\n",
    "    if labels[4][i] not in recurringCountries:\n",
    "        del_countries2019.append(labels[4][i])\n",
    "        "
   ]
  },
  {
   "cell_type": "code",
   "execution_count": 230,
   "id": "05e9ef25",
   "metadata": {},
   "outputs": [],
   "source": [
    "#feel free to rename these dataframes\n",
    "\n",
    "#new dataframes with dropped countries\n",
    "#Syria does not appear in HLE which is why it is dropped in all other dataframes\n",
    "\n",
    "data_with_index1 = dataWHR2015.set_index('Country')\n",
    "data_with_index1 = data_with_index1.drop(del_countries2015)\n",
    "data_with_index1 = data_with_index1.drop('Syria')\n",
    "\n",
    "data_with_index2 = dataWHR2016.set_index('Country')\n",
    "data_with_index2 = data_with_index2.drop(del_countries2016)\n",
    "data_with_index2 = data_with_index2.drop('Syria')\n",
    "\n",
    "data_with_index3 = dataWHR2017.set_index('Country')\n",
    "data_with_index3 = data_with_index3.drop(del_countries2017)\n",
    "data_with_index3 = data_with_index3.drop('Syria')\n",
    "\n",
    "data_with_index4 = dataWHR2018.set_index('Country')\n",
    "data_with_index4 = data_with_index4.drop(del_countries2018)\n",
    "data_with_index4 = data_with_index4.drop('Syria')\n",
    "\n",
    "data_with_index5 = dataWHR2019.set_index('Country')\n",
    "data_with_index5 = data_with_index5.drop(del_countries2019)\n",
    "data_with_index5 = data_with_index5.drop('Syria')\n",
    "\n"
   ]
  },
  {
   "cell_type": "code",
   "execution_count": 233,
   "id": "74855907",
   "metadata": {},
   "outputs": [],
   "source": [
    "#Configuring HLE dataframe\n",
    "dataHLE = dataHLE.loc[dataHLE['Level'] == 'National']\n",
    "data_with_index6 = dataHLE.set_index('Country')\n",
    "data_with_index6 = data_with_index6.drop('Syria')\n",
    "\n",
    "dataHLE2015 = data_with_index6['2015'] #HLE\n",
    "dataHLE2016 = data_with_index6['2016'] #HLE\n",
    "dataHLE2017 = data_with_index6['2017'] #HLE\n",
    "dataHLE2018 = data_with_index6['2018'] #HLE\n",
    "dataHLE2019 = data_with_index6['2019'] #HLE"
   ]
  },
  {
   "cell_type": "code",
   "execution_count": 199,
   "id": "ca3cc086",
   "metadata": {},
   "outputs": [],
   "source": [
    "# if you want to drop columns, here's an example below\n",
    "#data_with_index1 = data_with_index1.drop(['Region', 'Standard Error'], axis=1)"
   ]
  },
  {
   "cell_type": "code",
   "execution_count": 200,
   "id": "c27c1505",
   "metadata": {},
   "outputs": [],
   "source": [
    "# To alphabetize, follow below example.\n",
    "# I left it like this so that we can call sort_values when needed. \n",
    "# Should just keep the main data frame sorted by overall rank by default\n",
    "#data_with_index1.sort_values('Country') #sorting A-Z\n",
    "#data_with_index1.sort_values('Country', ascending=False) #sorting Z-A"
   ]
  },
  {
   "cell_type": "code",
   "execution_count": null,
   "id": "08af3c0f",
   "metadata": {},
   "outputs": [],
   "source": []
  }
 ],
 "metadata": {
  "kernelspec": {
   "display_name": "Python 3 (ipykernel)",
   "language": "python",
   "name": "python3"
  },
  "language_info": {
   "codemirror_mode": {
    "name": "ipython",
    "version": 3
   },
   "file_extension": ".py",
   "mimetype": "text/x-python",
   "name": "python",
   "nbconvert_exporter": "python",
   "pygments_lexer": "ipython3",
   "version": "3.9.7"
  }
 },
 "nbformat": 4,
 "nbformat_minor": 5
}
