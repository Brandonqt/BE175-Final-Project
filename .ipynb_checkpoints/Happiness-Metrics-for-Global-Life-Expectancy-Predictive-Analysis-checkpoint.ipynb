{
 "cells": [
  {
   "cell_type": "markdown",
   "id": "3574361a",
   "metadata": {},
   "source": [
    "## Happiness Metrics for Global Life Expectancy Predictive Analysis\n",
    "Nicole Chang, Sourish Guntipally, Aaron Park, Brandon To"
   ]
  },
  {
   "cell_type": "markdown",
   "id": "91be565f",
   "metadata": {},
   "source": [
    "Data used for this project is from Kaggle datasets of the [World Happiness Report](https://www.kaggle.com/unsdsn/world-happiness?select=2019.csv) and [Human Life Expectancy Around the World](https://www.kaggle.com/deepcontractor/human-life-expectancy-around-the-world).\n",
    "\n",
    "The years we are analyzing are from 2015 - 2019."
   ]
  },
  {
   "cell_type": "code",
   "execution_count": 2,
   "id": "75712870",
   "metadata": {},
   "outputs": [],
   "source": [
    "import scipy as sp, numpy as np, pandas as pd\n",
    "from sklearn.cross_decomposition import PLSRegression\n",
    "import matplotlib.pyplot as plt\n",
    "import warnings\n",
    "warnings.simplefilter('ignore')"
   ]
  },
  {
   "cell_type": "code",
   "execution_count": 3,
   "id": "8ee13aef",
   "metadata": {},
   "outputs": [],
   "source": [
    "#World Happiness Report (WHR)\n",
    "#Human Life Expectancy Around the World (HLE)\n",
    "\n",
    "#HLE\n",
    "dataHLE = pd.read_csv('Human_life_Expectancy.csv')\n",
    "\n",
    "#2015 data\n",
    "dataWHR2015 = pd.read_csv('2015.csv') #WHR\n",
    "dataHLE2015 = dataHLE['2015']   #HLE\n",
    "#figure out how to convert datatype to integers so we can actually work with the numbers\n",
    "\n",
    "#2016 data\n",
    "dataWHR2016 = pd.read_csv('2016.csv') #WHR\n",
    "\n",
    "#2017 data\n",
    "dataWHR2017 = pd.read_csv('2017.csv') #WHR\n",
    "\n",
    "#2018 data\n",
    "dataWHR2018 = pd.read_csv('2018.csv') #WHR\n",
    "\n",
    "#2019 data\n",
    "dataWHR2019 = pd.read_csv('2019.csv') #WHR"
   ]
  },
  {
   "cell_type": "code",
   "execution_count": 119,
   "id": "1fdeb786",
   "metadata": {
    "scrolled": true
   },
   "outputs": [],
   "source": [
    "#[Cell Description]\n",
    "\n",
    "#Labels are the names of the measurements (countries) for all 5 years\n",
    "labels = [dataWHR2015['Country'].astype(str), dataWHR2016['Country'].astype(str), dataWHR2017['Country'].astype(str),dataWHR2018['Country or region'].astype(str), dataWHR2019['Country or region'].astype(str)] \n",
    "count = np.zeros(len(dataWHR2015['Country']))     #Array to keep track of occurences of countries in 5 years\n",
    "\n",
    "for year in range(4):                                                      #Iterates for each year after 2015\n",
    "    for countryind in range(len(dataWHR2015['Country'])):                  #Iterates through country labels for 2015\n",
    "        for matchind in range(len(labels[year+1][:])):                     #Finds matches between 2015 label and other years\n",
    "            if labels[0][countryind] == labels[year+1][matchind]:\n",
    "                count[countryind] = count[countryind] + 1         "
   ]
  },
  {
   "cell_type": "code",
   "execution_count": 123,
   "id": "93933f02",
   "metadata": {},
   "outputs": [
    {
     "ename": "AttributeError",
     "evalue": "'list' object has no attribute 'astype'",
     "output_type": "error",
     "traceback": [
      "\u001b[1;31m---------------------------------------------------------------------------\u001b[0m",
      "\u001b[1;31mAttributeError\u001b[0m                            Traceback (most recent call last)",
      "\u001b[1;32m~\\AppData\\Local\\Temp/ipykernel_12148/4009743839.py\u001b[0m in \u001b[0;36m<module>\u001b[1;34m\u001b[0m\n\u001b[0;32m      1\u001b[0m \u001b[0mdel_countries_indices\u001b[0m \u001b[1;33m=\u001b[0m \u001b[0mlist\u001b[0m\u001b[1;33m(\u001b[0m\u001b[0mnp\u001b[0m\u001b[1;33m.\u001b[0m\u001b[0mwhere\u001b[0m\u001b[1;33m(\u001b[0m\u001b[0mcount\u001b[0m \u001b[1;33m!=\u001b[0m \u001b[1;36m4\u001b[0m\u001b[1;33m)\u001b[0m\u001b[1;33m)\u001b[0m\u001b[1;33m\u001b[0m\u001b[1;33m\u001b[0m\u001b[0m\n\u001b[0;32m      2\u001b[0m \u001b[1;33m\u001b[0m\u001b[0m\n\u001b[1;32m----> 3\u001b[1;33m \u001b[0mdel_countries_indices\u001b[0m\u001b[1;33m.\u001b[0m\u001b[0mastype\u001b[0m\u001b[1;33m(\u001b[0m\u001b[0mstr\u001b[0m\u001b[1;33m)\u001b[0m\u001b[1;33m.\u001b[0m\u001b[0mastype\u001b[0m\u001b[1;33m(\u001b[0m\u001b[0mint\u001b[0m\u001b[1;33m)\u001b[0m\u001b[1;33m\u001b[0m\u001b[1;33m\u001b[0m\u001b[0m\n\u001b[0m\u001b[0;32m      4\u001b[0m \u001b[1;32mfor\u001b[0m \u001b[0mdel_index\u001b[0m \u001b[1;32min\u001b[0m \u001b[0mdel_countries_indices\u001b[0m\u001b[1;33m:\u001b[0m\u001b[1;33m\u001b[0m\u001b[1;33m\u001b[0m\u001b[0m\n\u001b[0;32m      5\u001b[0m     \u001b[0mnp\u001b[0m\u001b[1;33m.\u001b[0m\u001b[0mdelete\u001b[0m\u001b[1;33m(\u001b[0m\u001b[0mlabels\u001b[0m\u001b[1;33m,\u001b[0m \u001b[0mlabels\u001b[0m\u001b[1;33m[\u001b[0m\u001b[1;36m0\u001b[0m\u001b[1;33m]\u001b[0m\u001b[1;33m[\u001b[0m\u001b[0mdel_index\u001b[0m\u001b[1;33m]\u001b[0m\u001b[1;33m,\u001b[0m \u001b[1;36m0\u001b[0m\u001b[1;33m)\u001b[0m\u001b[1;33m\u001b[0m\u001b[1;33m\u001b[0m\u001b[0m\n",
      "\u001b[1;31mAttributeError\u001b[0m: 'list' object has no attribute 'astype'"
     ]
    }
   ],
   "source": [
    "del_countries_indices = list(np.where(count != 4))\n",
    "\n",
    "del_countries_indices.astype(str).astype(int)\n",
    "for del_index in del_countries_indices:\n",
    "    np.delete(labels, labels[0][del_index], 0)\n"
   ]
  },
  {
   "cell_type": "code",
   "execution_count": 106,
   "id": "ca3cc086",
   "metadata": {},
   "outputs": [
    {
     "ename": "AttributeError",
     "evalue": "'numpy.ndarray' object has no attribute 'replace'",
     "output_type": "error",
     "traceback": [
      "\u001b[1;31m---------------------------------------------------------------------------\u001b[0m",
      "\u001b[1;31mAttributeError\u001b[0m                            Traceback (most recent call last)",
      "\u001b[1;32m~\\AppData\\Local\\Temp/ipykernel_12148/1374530517.py\u001b[0m in \u001b[0;36m<module>\u001b[1;34m\u001b[0m\n\u001b[0;32m      3\u001b[0m \u001b[0mdata\u001b[0m\u001b[1;33m[\u001b[0m\u001b[0mmask\u001b[0m\u001b[1;33m]\u001b[0m\u001b[1;33m\u001b[0m\u001b[1;33m\u001b[0m\u001b[0m\n\u001b[0;32m      4\u001b[0m \u001b[1;33m\u001b[0m\u001b[0m\n\u001b[1;32m----> 5\u001b[1;33m \u001b[0mkeep_mask\u001b[0m \u001b[1;33m=\u001b[0m \u001b[0mkeep_countries_indices\u001b[0m\u001b[1;33m[\u001b[0m\u001b[1;36m0\u001b[0m\u001b[1;33m]\u001b[0m\u001b[1;33m.\u001b[0m\u001b[0mreplace\u001b[0m\u001b[1;33m(\u001b[0m\u001b[1;36m4\u001b[0m\u001b[1;33m,\u001b[0m \u001b[1;32mTrue\u001b[0m\u001b[1;33m)\u001b[0m\u001b[1;33m\u001b[0m\u001b[1;33m\u001b[0m\u001b[0m\n\u001b[0m",
      "\u001b[1;31mAttributeError\u001b[0m: 'numpy.ndarray' object has no attribute 'replace'"
     ]
    }
   ],
   "source": [
    "mask = np.array([False, False, False, True, True, False, False])\n",
    "data = np.array([1, 2, 3, 4, 5, 6, 7])\n",
    "data[mask]\n",
    "\n",
    "keep_mask = keep_countries_indices[0].replace(4, True)"
   ]
  },
  {
   "cell_type": "code",
   "execution_count": null,
   "id": "9239defe",
   "metadata": {},
   "outputs": [],
   "source": [
    "# BEFORE WE CONTINUE WITH WORK, MUST FIND OVERLAPPING COUNTRIES FOR EVERY YEAR. WE CAN ONLY USE THOSE COUNTRIES\n",
    "# MUST REMOVE COUNTRIES THAT ARE NOT IN ALL 5 YEARS or at least make them null\n",
    "#ASK TA IF WE'RE ALLOWED TO ALTER THE DATA SET DIRECTLY\n",
    "\n",
    "print(\"Hello World\")"
   ]
  },
  {
   "cell_type": "code",
   "execution_count": null,
   "id": "16b5aa3d",
   "metadata": {},
   "outputs": [],
   "source": [
    "#hi"
   ]
  }
 ],
 "metadata": {
  "kernelspec": {
   "display_name": "Python 3 (ipykernel)",
   "language": "python",
   "name": "python3"
  },
  "language_info": {
   "codemirror_mode": {
    "name": "ipython",
    "version": 3
   },
   "file_extension": ".py",
   "mimetype": "text/x-python",
   "name": "python",
   "nbconvert_exporter": "python",
   "pygments_lexer": "ipython3",
   "version": "3.9.7"
  }
 },
 "nbformat": 4,
 "nbformat_minor": 5
}
