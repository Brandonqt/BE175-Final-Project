{
 "cells": [
  {
   "cell_type": "markdown",
   "id": "3574361a",
   "metadata": {},
   "source": [
    "## Happiness Metrics for Global Life Expectancy Predictive Analysis\n",
    "Nicole Chang, Sourish Guntipally, Aaron Park, Brandon To"
   ]
  },
  {
   "cell_type": "markdown",
   "id": "91be565f",
   "metadata": {},
   "source": [
    "Data used for this project is from Kaggle datasets of the [World Happiness Report](https://www.kaggle.com/unsdsn/world-happiness?select=2019.csv) and [Human Life Expectancy Around the World](https://www.kaggle.com/deepcontractor/human-life-expectancy-around-the-world).\n",
    "\n",
    "The years we are analyzing are from 2015 - 2019."
   ]
  },
  {
   "cell_type": "code",
   "execution_count": 5,
   "id": "75712870",
   "metadata": {},
   "outputs": [],
   "source": [
    "import scipy as sp, numpy as np, pandas as pd\n",
    "from sklearn.cross_decomposition import PLSRegression\n",
    "import matplotlib.pyplot as plt"
   ]
  },
  {
   "cell_type": "code",
   "execution_count": 24,
   "id": "8ee13aef",
   "metadata": {},
   "outputs": [],
   "source": [
    "#World Happiness Report (WHR)\n",
    "#Human Life Expectancy Around the World (HLE)\n",
    "\n",
    "#HLE\n",
    "dataHLE = pd.read_csv('Human_life_Expectancy.csv')\n",
    "\n",
    "#2015 data\n",
    "dataWHR2015 = pd.read_csv('2015.csv') #WHR\n",
    "dataHLE2015 = dataHLE[['2015']].to_numpy() #HLE\n",
    "#figure out how to convert datatype to integers so we can actually work with the numbers\n",
    "\n",
    "#2016 data\n",
    "dataWHR2016 = pd.read_csv('2016.csv') #WHR\n",
    "\n",
    "#2017 data\n",
    "dataWHR2017 = pd.read_csv('2017.csv') #WHR\n",
    "\n",
    "#2018 data\n",
    "dataWHR2018 = pd.read_csv('2018.csv') #WHR\n",
    "\n",
    "#2019 data\n",
    "dataWHR2019 = pd.read_csv('2019.csv') #WHR"
   ]
  },
  {
   "cell_type": "code",
   "execution_count": null,
   "id": "9239defe",
   "metadata": {},
   "outputs": [],
   "source": [
    "# BEFORE WE CONTINUE WITH WORK, MUST FIND OVERLAPPING COUNTRIES FOR EVERY YEAR. WE CAN ONLY USE THOSE COUNTRIES\n",
    "# MUST REMOVE COUNTRIES THAT ARE NOT IN ALL 5 YEARS or at least make them null\n",
    "#ASK TA IF WE'RE ALLOWED TO ALTER THE DATA SET DIRECTLY"
   ]
  }
 ],
 "metadata": {
  "kernelspec": {
   "display_name": "Python 3 (ipykernel)",
   "language": "python",
   "name": "python3"
  },
  "language_info": {
   "codemirror_mode": {
    "name": "ipython",
    "version": 3
   },
   "file_extension": ".py",
   "mimetype": "text/x-python",
   "name": "python",
   "nbconvert_exporter": "python",
   "pygments_lexer": "ipython3",
   "version": "3.9.7"
  }
 },
 "nbformat": 4,
 "nbformat_minor": 5
}
